{
 "cells": [
  {
   "cell_type": "markdown",
   "metadata": {},
   "source": [
    "# Pour le download de données"
   ]
  },
  {
   "cell_type": "code",
   "execution_count": 98,
   "metadata": {},
   "outputs": [],
   "source": [
    "from selenium import webdriver\n",
    "from selenium.webdriver.common.keys import Keys\n",
    "import requests\n",
    "import os"
   ]
  },
  {
   "cell_type": "code",
   "execution_count": 99,
   "metadata": {},
   "outputs": [],
   "source": [
    "chrome = webdriver.Chrome(executable_path=\"C:/Users/loren/Desktop/Projet/chromedriver\")"
   ]
  },
  {
   "cell_type": "code",
   "execution_count": 100,
   "metadata": {},
   "outputs": [],
   "source": [
    "chrome.get(\"https://clients.recyclage.veolia.fr/suivre-mes-prestations/evacuation-de-dechets/realisees\")"
   ]
  },
  {
   "cell_type": "markdown",
   "metadata": {},
   "source": [
    "## pour supprimer tous les caractères dans un input"
   ]
  },
  {
   "cell_type": "code",
   "execution_count": 85,
   "metadata": {},
   "outputs": [],
   "source": [
    "link = chrome.find_element_by_class_name(\"v-input\")\n",
    "link.send_keys(Keys.CONTROL, \"a\")\n",
    "link.send_keys(Keys.BACKSPACE)"
   ]
  },
  {
   "cell_type": "code",
   "execution_count": 101,
   "metadata": {},
   "outputs": [],
   "source": [
    "E_mail_input = chrome.find_element_by_name(\"email\")\n",
    "E_mail_input.send_keys(\"h7565tec@theoriginalshotels.com\")"
   ]
  },
  {
   "cell_type": "code",
   "execution_count": 102,
   "metadata": {},
   "outputs": [],
   "source": [
    "MDP_input = chrome.find_element_by_name(\"password\")\n",
    "MDP_input.send_keys(\"cIH180772\")"
   ]
  },
  {
   "cell_type": "code",
   "execution_count": 103,
   "metadata": {},
   "outputs": [],
   "source": [
    "button_login = chrome.find_element_by_tag_name(\"button\")\n",
    "button_login.click()"
   ]
  },
  {
   "cell_type": "code",
   "execution_count": 23,
   "metadata": {},
   "outputs": [],
   "source": [
    "button_download = chrome.find_element_by_class_name(\"v-button.v-button--filled.v-button--icon.v-button--color-primary.v-button--size-undefined\")\n",
    "button_download.click()"
   ]
  },
  {
   "cell_type": "code",
   "execution_count": 104,
   "metadata": {},
   "outputs": [],
   "source": [
    "rapport = chrome.find_element_by_class_name(\"v-flexbox.v-justify-between.v-align-center.margin-top-24\").find_element_by_tag_name(\"a\")\n",
    "url = rapport.get_attribute(\"href\")"
   ]
  },
  {
   "cell_type": "code",
   "execution_count": 105,
   "metadata": {
    "scrolled": true
   },
   "outputs": [],
   "source": [
    "req = requests.get(url, allow_redirects = True, stream = True)\n",
    "with open('C:/Users/loren/Desktop/Projet/veolia_test.csv', 'wb') as fd:\n",
    "    for chunk in req.iter_content(chunk_size=128):\n",
    "        fd.write(chunk)"
   ]
  },
  {
   "cell_type": "code",
   "execution_count": 96,
   "metadata": {},
   "outputs": [],
   "source": [
    "chrome.close()"
   ]
  },
  {
   "cell_type": "code",
   "execution_count": null,
   "metadata": {},
   "outputs": [],
   "source": []
  }
 ],
 "metadata": {
  "kernelspec": {
   "display_name": "Python 3",
   "language": "python",
   "name": "python3"
  },
  "language_info": {
   "codemirror_mode": {
    "name": "ipython",
    "version": 3
   },
   "file_extension": ".py",
   "mimetype": "text/x-python",
   "name": "python",
   "nbconvert_exporter": "python",
   "pygments_lexer": "ipython3",
   "version": "3.7.6"
  }
 },
 "nbformat": 4,
 "nbformat_minor": 4
}
